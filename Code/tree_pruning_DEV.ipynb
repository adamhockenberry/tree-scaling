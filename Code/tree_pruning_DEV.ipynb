{
 "cells": [
  {
   "cell_type": "code",
   "execution_count": 1,
   "metadata": {
    "collapsed": true
   },
   "outputs": [],
   "source": [
    "%matplotlib inline"
   ]
  },
  {
   "cell_type": "code",
   "execution_count": 13,
   "metadata": {
    "collapsed": true
   },
   "outputs": [],
   "source": [
    "from Bio import Phylo\n",
    "# from io import StringIO\n",
    "import numpy as np\n",
    "\n",
    "from matplotlib import pyplot as plt\n",
    "import random"
   ]
  },
  {
   "cell_type": "code",
   "execution_count": 94,
   "metadata": {
    "collapsed": true
   },
   "outputs": [],
   "source": [
    "def rel_time_AJH(tree):\n",
    "    \"\"\"\n",
    "    This closely (exactly?) follows the original implementation but note that the explanation\n",
    "    of the original algorithm fails to mention what happens with zero length branches which of course\n",
    "    give zero division errors\"\"\"\n",
    "    depth_dict = tree.depths(unit_branch_lengths=True)\n",
    "    for key in tree.get_terminals():\n",
    "        del depth_dict[key]\n",
    "\n",
    "    inv_depth_dict = {}\n",
    "    for key,val in depth_dict.items():\n",
    "        try:\n",
    "            inv_depth_dict[val].append(key)\n",
    "        except KeyError:\n",
    "            inv_depth_dict[val] = [key]\n",
    "            \n",
    "            \n",
    "    for depth in range(max(list(inv_depth_dict.keys())), -1, -1):\n",
    "        for clade in inv_depth_dict[depth]:\n",
    "            temp = clade.depths()\n",
    "            lens = [temp[term]-clade.branch_length for term in clade.get_terminals()]\n",
    "            for ds_clade in clade.clades:\n",
    "                ds_lens = [temp[term]-clade.branch_length for term in ds_clade.get_terminals()]\n",
    "                if np.mean(lens) > 0:\n",
    "                    ds_clade.rate = np.mean(ds_lens) / np.mean(lens)\n",
    "                else:\n",
    "                    ds_clade.rate = 0.\n",
    "                for all_ds in ds_clade.get_terminals() + ds_clade.get_nonterminals():\n",
    "                    if all_ds == ds_clade:\n",
    "                        pass\n",
    "                    else:\n",
    "                        all_ds.rate = all_ds.rate*ds_clade.rate\n",
    "    return tree\n",
    "\n",
    "\n",
    "def colless_I(tree):\n",
    "    vals = []\n",
    "    for internal in tree.get_nonterminals():\n",
    "        vals.append(np.abs(len(internal.clades[0].get_terminals())-len(internal.clades[1].get_terminals())))\n",
    "    return np.sum(vals)"
   ]
  },
  {
   "cell_type": "code",
   "execution_count": 95,
   "metadata": {
    "collapsed": false
   },
   "outputs": [
    {
     "data": {
      "image/png": "[encoded data removed]",
      "text/plain": [
       "<matplotlib.figure.Figure at 0x11b77d6a0>"
      ]
     },
     "metadata": {},
     "output_type": "display_data"
    }
   ],
   "source": [
    "###Real trees\n",
    "# tree = Phylo.read('/Users/adamhockenberry/Downloads/BM_Folder/paper_tree.txt', 'newick', rooted=True)\n",
    "tree = Phylo.read('/Users/adamhockenberry/Projects/Tree_rooting_analysis/Data/OMA_group_data/'\n",
    "                  'eukaryotes/processed_OMA_trees/OMAGroup_479938.treefile.RootedNoZero.MPAJH', 'newick', rooted=True)\n",
    "bls = [i.branch_length for i in tree.get_terminals() if i.branch_length > 0.] + [10e-6]\n",
    "min_bl = np.min(bls)/1000\n",
    "for i in tree.get_terminals():\n",
    "    if i.branch_length == 0.:\n",
    "        i.branch_length = min_bl\n",
    "\n",
    "\n",
    "\n",
    "\n",
    "counter=0\n",
    "for internal in tree.get_nonterminals():\n",
    "    internal.name = 'Int_{}'.format(counter)\n",
    "    counter += 1\n",
    "tree.root.branch_length = 0.0\n",
    "\n",
    "Phylo.draw(tree, label_func=lambda x: None)"
   ]
  },
  {
   "cell_type": "code",
   "execution_count": 96,
   "metadata": {
    "collapsed": false
   },
   "outputs": [
    {
     "data": {
      "image/png": "[encoded data removed]",
      "text/plain": [
       "<matplotlib.figure.Figure at 0x11816dac8>"
      ]
     },
     "metadata": {},
     "output_type": "display_data"
    }
   ],
   "source": [
    "tree = rel_time_AJH(tree)\n",
    "\n",
    "for node in tree.get_terminals() + tree.get_nonterminals():\n",
    "    if node == tree.root:\n",
    "        continue\n",
    "    node.branch_length = node.branch_length/node.rate\n",
    "    \n",
    "Phylo.draw(tree, label_func=lambda x: None)"
   ]
  },
  {
   "cell_type": "code",
   "execution_count": 6,
   "metadata": {
    "collapsed": false
   },
   "outputs": [
    {
     "data": {
      "text/plain": [
       "1"
      ]
     },
     "execution_count": 6,
     "metadata": {},
     "output_type": "execute_result"
    }
   ],
   "source": [
    "Phylo.write(tree, './test_reltime_tree.newick', format='newick')"
   ]
  },
  {
   "cell_type": "code",
   "execution_count": 7,
   "metadata": {
    "collapsed": false
   },
   "outputs": [
    {
     "name": "stdout",
     "output_type": "stream",
     "text": [
      "0.48898499797816875 197\n"
     ]
    }
   ],
   "source": [
    "depth_dict = tree.depths()\n",
    "mean_nonterm_depth = np.mean([depth_dict[i] for i in tree.get_nonterminals()])\n",
    "print(mean_nonterm_depth, len(tree.get_terminals()))"
   ]
  },
  {
   "cell_type": "code",
   "execution_count": null,
   "metadata": {
    "collapsed": true
   },
   "outputs": [],
   "source": []
  },
  {
   "cell_type": "markdown",
   "metadata": {},
   "source": [
    "# A stochastic but slow way to create different median divergence times\n",
    "\n",
    "This is *in lieu* of anything more systematic that I could think of. I really think any greedy algorithm will fail"
   ]
  },
  {
   "cell_type": "code",
   "execution_count": 97,
   "metadata": {
    "collapsed": false
   },
   "outputs": [
    {
     "name": "stdout",
     "output_type": "stream",
     "text": [
      "0\n",
      "0.48898520408163265 197\n",
      "0.4868710204081632 50\n",
      "######\n",
      "1\n",
      "0.48898520408163265 197\n",
      "0.5115014285714287 50\n",
      "######\n",
      "2\n",
      "0.48898520408163265 197\n",
      "0.49878122448979595 50\n",
      "######\n",
      "3\n",
      "0.48898520408163265 197\n",
      "0.5212810204081634 50\n",
      "######\n",
      "4\n",
      "0.48898520408163265 197\n",
      "0.5065077551020409 50\n",
      "######\n",
      "5\n",
      "0.48898520408163265 197\n",
      "0.5013267346938777 50\n",
      "######\n",
      "6\n",
      "0.48898520408163265 197\n",
      "0.48909387755102046 50\n",
      "######\n",
      "7\n",
      "0.48898520408163265 197\n",
      "0.48519530612244893 50\n",
      "######\n",
      "8\n",
      "0.48898520408163265 197\n",
      "0.43634469387755104 50\n",
      "######\n",
      "9\n",
      "0.48898520408163265 197\n",
      "0.4735336734693878 50\n",
      "######\n",
      "10\n",
      "0.48898520408163265 197\n",
      "0.4629463265306123 50\n",
      "######\n",
      "11\n",
      "0.48898520408163265 197\n",
      "0.5038377551020409 50\n",
      "######\n",
      "12\n",
      "0.48898520408163265 197\n",
      "0.4468020408163265 50\n",
      "######\n",
      "13\n",
      "0.48898520408163265 197\n",
      "0.48838000000000004 50\n",
      "######\n",
      "14\n",
      "0.48898520408163265 197\n",
      "0.48764326530612245 50\n",
      "######\n",
      "15\n",
      "0.48898520408163265 197\n",
      "0.47536040816326536 50\n",
      "######\n",
      "16\n",
      "0.48898520408163265 197\n",
      "0.46652061224489794 50\n",
      "######\n",
      "17\n",
      "0.48898520408163265 197\n",
      "0.4441406122448979 50\n",
      "######\n",
      "18\n",
      "0.48898520408163265 197\n",
      "0.4919695918367348 50\n",
      "######\n",
      "19\n",
      "0.48898520408163265 197\n",
      "0.5303071698113209 54\n",
      "######\n"
     ]
    }
   ],
   "source": [
    "starting_tree_loc = './test_reltime_tree.newick'\n",
    "starting_tree = Phylo.read(starting_tree_loc, 'newick', rooted=True)\n",
    "depth_dict = starting_tree.depths()\n",
    "starting_nt_depths = [depth_dict[i] for i in starting_tree.get_nonterminals()]\n",
    "best_scores = [np.mean(starting_nt_depths)]\n",
    "best_trees = [starting_tree]\n",
    "best_colless = [colless_I(starting_tree)]\n",
    "\n",
    "for i in range(20):\n",
    "    print(i)\n",
    "    target = 50\n",
    "\n",
    "    tree = Phylo.read(starting_tree_loc, 'newick', rooted=True)\n",
    "\n",
    "    depth_dict = tree.depths()\n",
    "    nt_depths = [depth_dict[i] for i in tree.get_nonterminals()]\n",
    "    print(np.mean(nt_depths), len(tree.get_terminals()))\n",
    "\n",
    "\n",
    "    counter = 0\n",
    "    while len(tree.get_terminals()) > target:\n",
    "        counter += 1\n",
    "        choice = random.choice(tree.get_terminals()+tree.get_nonterminals())\n",
    "        mean_nt_depth = np.mean([depth_dict[i] for i in tree.get_nonterminals()])\n",
    "\n",
    "        if choice in tree.get_terminals():\n",
    "            node_path = tree.get_path(choice)\n",
    "            if len(node_path) == 1:\n",
    "                pass\n",
    "            else:\n",
    "                parent = node_path[-2]\n",
    "                if depth_dict[parent] < mean_nt_depth:\n",
    "                    tree.prune(choice)\n",
    "                else:\n",
    "                    pass\n",
    "        elif choice in tree.get_nonterminals():\n",
    "            if choice == tree.root:\n",
    "                pass\n",
    "            elif (len(tree.get_terminals()) - len(choice.get_terminals()) + 1) < target:\n",
    "                pass\n",
    "            elif depth_dict[choice] > mean_nt_depth:\n",
    "                pass \n",
    "            else:\n",
    "                removal_depths = choice.depths(unit_branch_lengths=True)\n",
    "                for i in choice.get_nonterminals():\n",
    "                    del removal_depths[i]\n",
    "                removal_depths = removal_depths.items()\n",
    "                removal_depths = sorted(removal_depths, key=lambda x: x[1])\n",
    "                for i,j in removal_depths[1:]:\n",
    "                    tree.prune(i)\n",
    "        if counter > 300:###Arbitrary to prevent getting stuck\n",
    "            break\n",
    "    mean_nt_depth = np.mean([depth_dict[i] for i in tree.get_nonterminals()])\n",
    "    if mean_nt_depth > np.mean(starting_nt_depths):\n",
    "        best_scores.append(mean_nt_depth)\n",
    "        best_trees.append(tree)\n",
    "    print(np.mean(mean_nt_depth), len(tree.get_terminals()))\n",
    "    print('######')"
   ]
  },
  {
   "cell_type": "code",
   "execution_count": 98,
   "metadata": {
    "collapsed": false
   },
   "outputs": [],
   "source": [
    "combined = list(zip(best_trees, best_score))\n",
    "combined = sorted(combined, key=lambda x: x[1])[::-1]\n",
    "best_trees, best_scores = list(zip(*combined))"
   ]
  },
  {
   "cell_type": "code",
   "execution_count": 100,
   "metadata": {
    "collapsed": false
   },
   "outputs": [
    {
     "name": "stdout",
     "output_type": "stream",
     "text": [
      "360\n",
      "357\n",
      "332\n",
      "347\n",
      "323\n",
      "270\n",
      "318\n",
      "253\n",
      "320\n",
      "1248\n"
     ]
    }
   ],
   "source": [
    "for i_tree in best_trees:\n",
    "    print(colless_I(i_tree))"
   ]
  },
  {
   "cell_type": "code",
   "execution_count": 101,
   "metadata": {
    "collapsed": false
   },
   "outputs": [
    {
     "data": {
      "image/png": "[encoded data removed]",
      "text/plain": [
       "<matplotlib.figure.Figure at 0x11b417fd0>"
      ]
     },
     "metadata": {},
     "output_type": "display_data"
    }
   ],
   "source": [
    "Phylo.draw(best_trees[5], label_func=lambda x: None)"
   ]
  },
  {
   "cell_type": "code",
   "execution_count": 84,
   "metadata": {
    "collapsed": false
   },
   "outputs": [
    {
     "name": "stdout",
     "output_type": "stream",
     "text": [
      "0.5110589795918369 0.5476900000000001 50\n"
     ]
    }
   ],
   "source": [
    "depth_dict = best_trees[0].depths()\n",
    "starting_nt_depths = [depth_dict[i] for i in best_trees[0].get_nonterminals()]\n",
    "print(np.mean(starting_nt_depths), np.median(starting_nt_depths), len(best_trees[0].get_terminals()))"
   ]
  },
  {
   "cell_type": "code",
   "execution_count": 91,
   "metadata": {
    "collapsed": false
   },
   "outputs": [
    {
     "data": {
      "text/plain": [
       "(array([0.02040816, 0.02040816, 0.04081633, 0.04081633, 0.06122449,\n",
       "        0.08163265, 0.10204082, 0.16326531, 0.44897959, 1.        ]),\n",
       " array([0.      , 0.057075, 0.11415 , 0.171225, 0.2283  , 0.285375,\n",
       "        0.34245 , 0.399525, 0.4566  , 0.513675, 0.57075 ]),\n",
       " <a list of 1 Patch objects>)"
      ]
     },
     "execution_count": 91,
     "metadata": {},
     "output_type": "execute_result"
    },
    {
     "data": {
      "image/png": "[encoded data removed]",
      "text/plain": [
       "<matplotlib.figure.Figure at 0x11a7aed68>"
      ]
     },
     "metadata": {},
     "output_type": "display_data"
    }
   ],
   "source": [
    "best_index = 5\n",
    "depth_dict = starting_tree.depths()\n",
    "best_tree_depth_dict = best_trees[best_index].depths()\n",
    "\n",
    "\n",
    "fig, ax = plt.subplots()\n",
    "# ax.hist([depth_dict[i] for i in starting_tree.get_nonterminals()], alpha=0.5, normed=True)\n",
    "# ax.hist([best_tree_depth_dict[i] for i in best_trees[-1].get_nonterminals()], alpha=0.5, normed=True)\n",
    "ax.hist([depth_dict[i] for i in starting_tree.get_nonterminals()], alpha=0.5,\\\n",
    "        cumulative=True, normed=True, histtype='step')\n",
    "ax.hist([best_tree_depth_dict[i] for i in best_trees[best_index].get_nonterminals()], alpha=0.5,\\\n",
    "        cumulative=True, normed=True, histtype='step')\n",
    "\n"
   ]
  },
  {
   "cell_type": "code",
   "execution_count": 93,
   "metadata": {
    "collapsed": false
   },
   "outputs": [
    {
     "data": {
      "text/plain": [
       "(0, 0)"
      ]
     },
     "execution_count": 93,
     "metadata": {},
     "output_type": "execute_result"
    }
   ],
   "source": [
    "depth_dict[starting_tree.root], best_tree_depth_dict[best_trees[best_index].root]"
   ]
  },
  {
   "cell_type": "code",
   "execution_count": null,
   "metadata": {
    "collapsed": false
   },
   "outputs": [],
   "source": [
    "tree.root.clades"
   ]
  },
  {
   "cell_type": "code",
   "execution_count": null,
   "metadata": {
    "collapsed": false
   },
   "outputs": [],
   "source": [
    "tree.root.clades, tree.root.clades[1].clades"
   ]
  },
  {
   "cell_type": "code",
   "execution_count": null,
   "metadata": {
    "collapsed": false
   },
   "outputs": [],
   "source": [
    "depth_dict[tree.root.clades[1].clades[0]]"
   ]
  },
  {
   "cell_type": "code",
   "execution_count": null,
   "metadata": {
    "collapsed": true
   },
   "outputs": [],
   "source": []
  }
 ],
 "metadata": {
  "kernelspec": {
   "display_name": "Python 3",
   "language": "python",
   "name": "python3"
  },
  "language_info": {
   "codemirror_mode": {
    "name": "ipython",
    "version": 3
   },
   "file_extension": ".py",
   "mimetype": "text/x-python",
   "name": "python",
   "nbconvert_exporter": "python",
   "pygments_lexer": "ipython3",
   "version": "3.4.5"
  },
  "toc": {
   "colors": {
    "hover_highlight": "#DAA520",
    "navigate_num": "#000000",
    "navigate_text": "#333333",
    "running_highlight": "#FF0000",
    "selected_highlight": "#FFD700",
    "sidebar_border": "#EEEEEE",
    "wrapper_background": "#FFFFFF"
   },
   "moveMenuLeft": true,
   "nav_menu": {
    "height": "30px",
    "width": "252px"
   },
   "navigate_menu": true,
   "number_sections": true,
   "sideBar": true,
   "threshold": 4,
   "toc_cell": false,
   "toc_section_display": "block",
   "toc_window_display": false,
   "widenNotebook": false
  }
 },
 "nbformat": 4,
 "nbformat_minor": 2
}
