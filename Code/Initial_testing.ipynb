{
 "cells": [
  {
   "cell_type": "code",
   "execution_count": 1,
   "metadata": {
    "collapsed": true
   },
   "outputs": [],
   "source": [
    "%matplotlib inline"
   ]
  },
  {
   "cell_type": "code",
   "execution_count": 36,
   "metadata": {
    "collapsed": true
   },
   "outputs": [],
   "source": [
    "import numpy as np\n",
    "from Bio import Phylo, SeqIO\n",
    "import Levenshtein\n",
    "import random\n",
    "\n",
    "from matplotlib import pyplot as plt\n",
    "\n",
    "from scipy import optimize\n",
    "from scipy import stats\n"
   ]
  },
  {
   "cell_type": "markdown",
   "metadata": {},
   "source": [
    "# Piecewise linear fit of hamming distance vs tree distance"
   ]
  },
  {
   "cell_type": "code",
   "execution_count": 20,
   "metadata": {
    "collapsed": false
   },
   "outputs": [],
   "source": [
    "seqs = list(SeqIO.parse('../../Phylogenetic_couplings/Data/'\n",
    "                        'psicov150_aln_pdb/aln_fasta_max1k/1aoeA.fasta', 'fasta'))\n",
    "            \n",
    "tree = Phylo.read('../../Phylogenetic_couplings/Data/'\n",
    "                  'psicov150_aln_pdb/mp_root_trees/1aoeA.newick', 'newick')"
   ]
  },
  {
   "cell_type": "code",
   "execution_count": 31,
   "metadata": {
    "collapsed": false
   },
   "outputs": [
    {
     "name": "stdout",
     "output_type": "stream",
     "text": [
      "20\n"
     ]
    }
   ],
   "source": [
    "seqs = random.sample(seqs, 20)\n",
    "print(len(seqs))\n",
    "pairwise_hamming = []\n",
    "pairwise_tree = []\n",
    "for i in range(len(seqs)):\n",
    "    for j in range(i+1, len(seqs)):\n",
    "        pairwise_hamming.append(Levenshtein.hamming(str(seqs[i].seq), str(seqs[j].seq)))\n",
    "        pairwise_tree.append(tree.distance(str(seqs[i].id), str(seqs[j].id)))"
   ]
  },
  {
   "cell_type": "code",
   "execution_count": 32,
   "metadata": {
    "collapsed": false
   },
   "outputs": [
    {
     "data": {
      "text/plain": [
       "[<matplotlib.lines.Line2D at 0x11b165c50>]"
      ]
     },
     "execution_count": 32,
     "metadata": {},
     "output_type": "execute_result"
    },
    {
     "data": {
      "image/png": "[encoded data removed]",
      "text/plain": [
       "<matplotlib.figure.Figure at 0x11b165c88>"
      ]
     },
     "metadata": {},
     "output_type": "display_data"
    }
   ],
   "source": [
    "fig, ax = plt.subplots()\n",
    "ax.plot(pairwise_tree, pairwise_hamming, 'bo')"
   ]
  },
  {
   "cell_type": "code",
   "execution_count": 33,
   "metadata": {
    "collapsed": false
   },
   "outputs": [],
   "source": [
    "x = np.array(pairwise_tree, dtype=float)\n",
    "y = np.array(pairwise_hamming, dtype=float)\n",
    "p = x.argsort()"
   ]
  },
  {
   "cell_type": "code",
   "execution_count": 34,
   "metadata": {
    "collapsed": false
   },
   "outputs": [
    {
     "data": {
      "text/plain": [
       "[<matplotlib.lines.Line2D at 0x11b19da58>]"
      ]
     },
     "execution_count": 34,
     "metadata": {},
     "output_type": "execute_result"
    },
    {
     "data": {
      "image/png": "[encoded data removed]",
      "text/plain": [
       "<matplotlib.figure.Figure at 0x11b19d978>"
      ]
     },
     "metadata": {},
     "output_type": "display_data"
    }
   ],
   "source": [
    "fig, ax = plt.subplots()\n",
    "ax.plot(x[p], y[p], 'bo')"
   ]
  },
  {
   "cell_type": "code",
   "execution_count": 39,
   "metadata": {
    "collapsed": false
   },
   "outputs": [
    {
     "name": "stdout",
     "output_type": "stream",
     "text": [
      "nan\n",
      "nan\n",
      "0.4394561090151014\n",
      "0.00036036084698642945\n",
      "0.00029644117063416445\n",
      "6.178428856989877e-05\n",
      "7.864412811892034e-06\n",
      "9.735055017062595e-07\n",
      "4.658022031384126e-07\n",
      "1.0436428859031104e-07\n",
      "9.099474181243061e-08\n",
      "9.720499055018218e-08\n",
      "8.219029446181163e-08\n",
      "1.5598082257135583e-08\n",
      "2.787420113325e-09\n",
      "1.1166533423863001e-08\n",
      "5.294054743992662e-09\n",
      "1.7135267644616013e-09\n",
      "4.5605535682631e-10\n",
      "9.701593279722713e-11\n",
      "4.931420501408159e-11\n",
      "1.9999771297584415e-11\n",
      "4.618418861509036e-12\n",
      "4.378400003443737e-11\n",
      "1.6351952256761214e-11\n",
      "8.558549391550837e-12\n",
      "7.442640290189827e-12\n",
      "2.00357864601458e-12\n",
      "8.088326812256651e-13\n",
      "2.222936006749705e-13\n",
      "6.829133844284583e-14\n",
      "1.5220249306063066e-13\n",
      "5.6190923387369336e-14\n",
      "1.75620671583184e-14\n",
      "9.702400734640925e-15\n",
      "2.986899075104964e-15\n",
      "1.0288247151078972e-15\n",
      "1.1352326787767546e-15\n",
      "1.2357292801883857e-15\n",
      "6.831189919913204e-16\n",
      "4.3835571326713057e-16\n",
      "2.7785922864066726e-16\n",
      "9.298269378516115e-17\n",
      "3.214899719453754e-17\n",
      "1.2581110827695681e-17\n",
      "5.905520902539099e-18\n",
      "3.0208699483385885e-18\n",
      "1.9204495902258038e-18\n",
      "6.280500173460279e-19\n",
      "1.923943187323004e-19\n",
      "6.810522864281196e-20\n",
      "2.0835291441255512e-20\n",
      "7.862530377982977e-21\n",
      "9.478491033457442e-21\n",
      "2.136804624630844e-20\n",
      "1.0730236419512118e-20\n",
      "3.883180296163284e-21\n",
      "1.4275502986477364e-21\n",
      "1.010950991357925e-21\n",
      "4.1759693087062557e-22\n",
      "2.1951923703369098e-22\n",
      "1.2083760949034306e-22\n",
      "4.982129048999129e-23\n",
      "2.5123573916796595e-23\n",
      "1.2995544770985622e-23\n",
      "4.902037374935875e-24\n",
      "2.560684111968167e-24\n",
      "9.721049137579793e-25\n",
      "6.316149372170488e-25\n",
      "5.084103911892462e-25\n",
      "2.2307230706188887e-25\n",
      "7.214564008758502e-26\n",
      "2.2007004514694237e-26\n",
      "1.768234757178535e-26\n",
      "2.8509070018910414e-26\n",
      "3.8093665219889836e-26\n",
      "2.494834241778208e-26\n",
      "1.0881748745488097e-26\n",
      "5.1432959092632826e-27\n",
      "2.8581407749881677e-27\n",
      "9.412749953991794e-28\n",
      "3.5377551790546796e-28\n",
      "1.1705776780066136e-28\n",
      "8.563154298242237e-29\n",
      "2.702057279255695e-29\n",
      "1.1697555856659266e-29\n",
      "3.922789837647615e-30\n",
      "3.0104711235822024e-30\n",
      "9.24993423989874e-31\n",
      "1.0504398277238839e-30\n",
      "5.486817337582124e-31\n",
      "3.2561882454549727e-31\n",
      "1.7800601730808878e-31\n",
      "5.494849046250787e-32\n",
      "1.7706790538249637e-32\n",
      "1.5466811534774438e-32\n",
      "4.856005040360043e-33\n",
      "1.3807666039149773e-32\n",
      "1.268925918848313e-32\n",
      "6.222753842542864e-33\n",
      "3.656439420911128e-33\n",
      "2.3783543062863474e-33\n",
      "2.93881478515512e-33\n",
      "1.044885150777625e-33\n",
      "7.279870941696794e-34\n",
      "5.01113056027342e-34\n",
      "6.540149596480294e-34\n",
      "1.6734824992087003e-33\n",
      "6.584794489734742e-34\n",
      "2.60612453119645e-34\n",
      "9.7357939316826e-35\n",
      "3.664835570433411e-35\n",
      "1.313233365973807e-35\n",
      "9.069121451882686e-35\n",
      "5.8405541272223e-35\n",
      "4.1409887179801597e-35\n",
      "3.3093853176889816e-35\n",
      "2.3359277447874525e-35\n",
      "6.616311985284812e-36\n",
      "6.754229469571559e-36\n",
      "1.905971196456522e-36\n",
      "1.5907918876855926e-36\n",
      "3.049978004257428e-36\n",
      "8.027026357804481e-37\n",
      "3.1035934289598426e-37\n",
      "1.0650321851592167e-37\n",
      "2.130282474275118e-37\n",
      "4.722716294670506e-37\n",
      "2.4334379283628055e-37\n",
      "6.477176961115043e-38\n",
      "1.1230460898402432e-37\n",
      "2.8727207571672447e-38\n",
      "2.869662409137328e-38\n",
      "7.431728229296292e-39\n",
      "1.9208274974625495e-39\n",
      "1.2452917326460668e-38\n",
      "1.3715756141026848e-38\n",
      "5.747640853472415e-38\n",
      "2.8651466945763237e-38\n",
      "1.2252722338196106e-38\n",
      "2.986831796164041e-39\n",
      "2.0396744893542898e-38\n",
      "4.903339262893485e-39\n",
      "1.2390882863110476e-39\n",
      "3.035878526671478e-40\n",
      "1.7487846028736098e-40\n",
      "2.5845985701845965e-40\n",
      "1.1436951171950437e-40\n",
      "6.11090760031415e-41\n",
      "3.2473241158007985e-41\n",
      "2.367161565984713e-40\n",
      "6.645397223933131e-40\n",
      "9.592405664737038e-40\n",
      "2.3491234437110875e-40\n",
      "7.055337585957723e-41\n",
      "1.7926946990989407e-41\n",
      "5.006534240633625e-40\n",
      "3.7842620561500046e-39\n",
      "6.354142839829981e-39\n",
      "3.331614095577848e-39\n",
      "1.2689090437427818e-39\n",
      "3.484816951647517e-39\n",
      "1.7067460424156098e-38\n",
      "8.980141598138135e-39\n",
      "1.884557592844038e-38\n",
      "5.5550324466095e-39\n",
      "3.271017632698313e-39\n",
      "1.7126524887940394e-39\n",
      "9.876199632443215e-40\n",
      "3.0638532882588816e-40\n",
      "4.113518436601227e-39\n",
      "1.2253545407220056e-39\n",
      "2.896023783793907e-40\n",
      "1.158962823078519e-40\n",
      "4.192838073960074e-40\n",
      "1.971271529746683e-39\n",
      "1.1724410811509536e-38\n",
      "1.0938863880803678e-38\n",
      "1.0059641520282303e-38\n",
      "2.262924562136184e-39\n",
      "1.1126854107728559e-39\n",
      "2.6213418674000235e-40\n",
      "7.902394897565531e-41\n",
      "4.976370754211905e-41\n",
      "3.3859261429366303e-41\n",
      "6.183962204596893e-42\n",
      "7.968520165955967e-42\n",
      "2.325660731248439e-42\n"
     ]
    },
    {
     "name": "stderr",
     "output_type": "stream",
     "text": [
      "/Users/adamhockenberry/.pyenv/versions/anaconda3-2.0.1/lib/python3.4/site-packages/scipy/stats/_stats_mstats_common.py:93: RuntimeWarning: invalid value encountered in sqrt\n",
      "  t = r * np.sqrt(df / ((1.0 - r + TINY)*(1.0 + r + TINY)))\n",
      "/Users/adamhockenberry/.pyenv/versions/anaconda3-2.0.1/lib/python3.4/site-packages/scipy/stats/_stats_mstats_common.py:95: RuntimeWarning: invalid value encountered in double_scalars\n",
      "  slope = r_num / ssxm\n",
      "/Users/adamhockenberry/.pyenv/versions/anaconda3-2.0.1/lib/python3.4/site-packages/scipy/stats/_stats_mstats_common.py:97: RuntimeWarning: invalid value encountered in double_scalars\n",
      "  sterrest = np.sqrt((1 - r**2) * ssym / ssxm / df)\n"
     ]
    }
   ],
   "source": [
    "logliks = []\n",
    "for i in range(1, len(x)-1):\n",
    "    a, b, c, d, e = stats.linregress(x[p][:i], y[p][:i])\n",
    "    print(d)"
   ]
  },
  {
   "cell_type": "code",
   "execution_count": null,
   "metadata": {
    "collapsed": true
   },
   "outputs": [],
   "source": []
  }
 ],
 "metadata": {
  "kernelspec": {
   "display_name": "Python 3",
   "language": "python",
   "name": "python3"
  },
  "language_info": {
   "codemirror_mode": {
    "name": "ipython",
    "version": 3
   },
   "file_extension": ".py",
   "mimetype": "text/x-python",
   "name": "python",
   "nbconvert_exporter": "python",
   "pygments_lexer": "ipython3",
   "version": "3.4.5"
  },
  "toc": {
   "colors": {
    "hover_highlight": "#DAA520",
    "navigate_num": "#000000",
    "navigate_text": "#333333",
    "running_highlight": "#FF0000",
    "selected_highlight": "#FFD700",
    "sidebar_border": "#EEEEEE",
    "wrapper_background": "#FFFFFF"
   },
   "moveMenuLeft": true,
   "nav_menu": {
    "height": "30px",
    "width": "252px"
   },
   "navigate_menu": true,
   "number_sections": true,
   "sideBar": true,
   "threshold": 4,
   "toc_cell": false,
   "toc_section_display": "block",
   "toc_window_display": false,
   "widenNotebook": false
  }
 },
 "nbformat": 4,
 "nbformat_minor": 2
}
