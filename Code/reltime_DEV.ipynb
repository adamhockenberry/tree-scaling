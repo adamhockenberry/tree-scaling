{
 "cells": [
  {
   "cell_type": "code",
   "execution_count": 1,
   "metadata": {
    "collapsed": true
   },
   "outputs": [],
   "source": [
    "%matplotlib inline"
   ]
  },
  {
   "cell_type": "code",
   "execution_count": 2,
   "metadata": {
    "collapsed": false
   },
   "outputs": [],
   "source": [
    "from Bio import Phylo\n",
    "from io import StringIO\n",
    "import numpy as np\n",
    "\n",
    "from matplotlib import pyplot as plt"
   ]
  },
  {
   "cell_type": "markdown",
   "metadata": {},
   "source": [
    "# Establish some test trees for development"
   ]
  },
  {
   "cell_type": "code",
   "execution_count": 549,
   "metadata": {
    "collapsed": false
   },
   "outputs": [
    {
     "data": {
      "image/png": "[encoded data removed]",
      "text/plain": [
       "<matplotlib.figure.Figure at 0x11a16be80>"
      ]
     },
     "metadata": {},
     "output_type": "display_data"
    }
   ],
   "source": [
    "###Paper tree\n",
    "# tree = Phylo.read(StringIO('((A:1.82, B:7.39):0.87, (D:3.61, E:26.33):1.11);'), 'newick', rooted=True)\n",
    "\n",
    "###My Tests\n",
    "# tree = Phylo.read(StringIO('(((A:2, B:2):2,C:4):2, (D:3, E:3):3);'), 'newick', rooted=True)\n",
    "# tree = Phylo.read(StringIO('(((A:1.5, B:2.5):2,C:4):2, (D:3, E:3):3);'), 'newick', rooted=True)\n",
    "# tree = Phylo.read(StringIO('(((A:2, B:3):2,C:4):2, (D:3, E:3):3);'), 'newick', rooted=True)\n",
    "# tree = Phylo.read(StringIO('(((A:2, B:1):2,C:4):2, (D:3, E:3):3);'), 'newick', rooted=True)\n",
    "# tree = Phylo.read(StringIO('(((A:2, B:2):1,C:4):2, (D:3, E:3):3);'), 'newick', rooted=True)\n",
    "# tree = Phylo.read(StringIO('(((A:2, B:2):2,C:5):2, (D:3, E:3):3);'), 'newick', rooted=True)\n",
    "# tree = Phylo.read(StringIO('(((A:2, B:2):2,C:3):2, (D:3, E:3):3);'), 'newick', rooted=True)\n",
    "\n",
    "###Testing zeroe's\n",
    "tree = Phylo.read(StringIO('(((A:0.000001, B:2):2,C:4):2, (D:3, E:3):3);'), 'newick', rooted=True)\n",
    "\n",
    "###Biased tree\n",
    "# tree = Phylo.read(StringIO('((((((A:0.000001,H:0.000001):0.000001,'\n",
    "#                            'G:0.000001):0.000001,F:0.000001):1, B:2):2,C:4):2,'\n",
    "#                            '(D:3, E:3):3);'), 'newick', rooted=True)\n",
    "\n",
    "\n",
    "###Real trees\n",
    "# tree = Phylo.read('/Users/adamhockenberry/Downloads/BM_Folder/paper_tree.txt', 'newick', rooted=True)\n",
    "# tree = Phylo.read('/Users/adamhockenberry/Projects/Tree_rooting_analysis/Data/OMA_group_data/'\n",
    "#                   'eukaryotes/processed_OMA_trees/OMAGroup_479938.treefile.RootedNoZero.MPAJH', 'newick')\n",
    "bls = [i.branch_length for i in tree.get_terminals() if i.branch_length > 0.] + [10e-6]\n",
    "min_bl = np.min(bls)/1000\n",
    "for i in tree.get_terminals():\n",
    "    if i.branch_length == 0.:\n",
    "        i.branch_length = min_bl\n",
    "\n",
    "\n",
    "\n",
    "\n",
    "counter=0\n",
    "for internal in tree.get_nonterminals():\n",
    "    internal.name = 'Int_{}'.format(counter)\n",
    "    counter += 1\n",
    "tree.root.branch_length = 0.0\n",
    "\n",
    "Phylo.draw(tree)\n",
    "# Phylo.draw(tree, label_func=lambda x: None)"
   ]
  },
  {
   "cell_type": "code",
   "execution_count": null,
   "metadata": {
    "collapsed": false
   },
   "outputs": [],
   "source": []
  },
  {
   "cell_type": "markdown",
   "metadata": {},
   "source": [
    "# Tip first RelTime implementation\n",
    "\n",
    "**Might be a faster way to do this root first but it's going to require some thought**"
   ]
  },
  {
   "cell_type": "code",
   "execution_count": 550,
   "metadata": {
    "collapsed": false
   },
   "outputs": [],
   "source": [
    "def rel_time_AJH(tree):\n",
    "    \"\"\"\n",
    "    This closely (exactly?) follows the original implementation but note that the explanation\n",
    "    of the original algorithm fails to mention what happens with zero length branches which of course\n",
    "    give zero division errors\"\"\"\n",
    "    depth_dict = tree.depths(unit_branch_lengths=True)\n",
    "    for key in tree.get_terminals():\n",
    "        del depth_dict[key]\n",
    "\n",
    "    inv_depth_dict = {}\n",
    "    for key,val in depth_dict.items():\n",
    "        try:\n",
    "            inv_depth_dict[val].append(key)\n",
    "        except KeyError:\n",
    "            inv_depth_dict[val] = [key]\n",
    "            \n",
    "            \n",
    "    for depth in range(max(list(inv_depth_dict.keys())), -1, -1):\n",
    "        for clade in inv_depth_dict[depth]:\n",
    "            temp = clade.depths()\n",
    "            lens = [temp[term]-clade.branch_length for term in clade.get_terminals()]\n",
    "            for ds_clade in clade.clades:\n",
    "                ds_lens = [temp[term]-clade.branch_length for term in ds_clade.get_terminals()]\n",
    "                if np.mean(lens) > 0:\n",
    "                    ds_clade.rate = np.mean(ds_lens) / np.mean(lens)\n",
    "                else:\n",
    "                    ds_clade.rate = 0.\n",
    "                for all_ds in ds_clade.get_terminals() + ds_clade.get_nonterminals():\n",
    "                    if all_ds == ds_clade:\n",
    "                        pass\n",
    "                    else:\n",
    "                        all_ds.rate = all_ds.rate*ds_clade.rate\n",
    "    return tree"
   ]
  },
  {
   "cell_type": "code",
   "execution_count": 551,
   "metadata": {
    "collapsed": false
   },
   "outputs": [
    {
     "name": "stdout",
     "output_type": "stream",
     "text": [
      "A 8.571425087934482e-07\n",
      "B 1.7142850173472772\n",
      "C 1.1428570591836809\n",
      "D 1.0714285331632667\n",
      "E 1.0714285331632667\n",
      "Int_1 0.9523809778911556\n",
      "Int_2 0.857142937244893\n",
      "Int_3 1.0714285331632667\n"
     ]
    }
   ],
   "source": [
    "tree = rel_time_AJH(tree)\n",
    "\n",
    "for node in tree.get_terminals() + tree.get_nonterminals():\n",
    "    if node == tree.root:\n",
    "        continue\n",
    "    print(node, node.rate)\n",
    "    node.branch_length = node.branch_length/node.rate"
   ]
  },
  {
   "cell_type": "code",
   "execution_count": 552,
   "metadata": {
    "collapsed": false
   },
   "outputs": [
    {
     "data": {
      "image/png": "[encoded data removed]",
      "text/plain": [
       "<matplotlib.figure.Figure at 0x11b2fecf8>"
      ]
     },
     "metadata": {},
     "output_type": "display_data"
    }
   ],
   "source": [
    "Phylo.draw(tree)\n",
    "# Phylo.draw(tree, label_func=lambda x: None)"
   ]
  },
  {
   "cell_type": "code",
   "execution_count": 553,
   "metadata": {
    "collapsed": false
   },
   "outputs": [
    {
     "data": {
      "text/plain": [
       "[5.600000199836925, 5.600000199999999, 5.6000002, 5.6000002, 5.6000002]"
      ]
     },
     "execution_count": 553,
     "metadata": {},
     "output_type": "execute_result"
    }
   ],
   "source": [
    "[tree.depths()[terminal] for terminal in tree.get_terminals()]"
   ]
  },
  {
   "cell_type": "code",
   "execution_count": 554,
   "metadata": {
    "collapsed": false
   },
   "outputs": [
    {
     "data": {
      "text/plain": [
       "[0, 2.0999999437500034, 4.433333059027815, 2.8000001]"
      ]
     },
     "execution_count": 554,
     "metadata": {},
     "output_type": "execute_result"
    }
   ],
   "source": [
    "[tree.depths()[nonterminal] for nonterminal in tree.get_nonterminals()]"
   ]
  },
  {
   "cell_type": "code",
   "execution_count": null,
   "metadata": {
    "collapsed": false
   },
   "outputs": [],
   "source": []
  },
  {
   "cell_type": "code",
   "execution_count": null,
   "metadata": {
    "collapsed": true
   },
   "outputs": [],
   "source": []
  },
  {
   "cell_type": "code",
   "execution_count": null,
   "metadata": {
    "collapsed": true
   },
   "outputs": [],
   "source": []
  },
  {
   "cell_type": "code",
   "execution_count": null,
   "metadata": {
    "collapsed": true
   },
   "outputs": [],
   "source": []
  },
  {
   "cell_type": "code",
   "execution_count": null,
   "metadata": {
    "collapsed": true
   },
   "outputs": [],
   "source": []
  },
  {
   "cell_type": "code",
   "execution_count": 39,
   "metadata": {
    "collapsed": false
   },
   "outputs": [
    {
     "name": "stdout",
     "output_type": "stream",
     "text": [
      "A\n",
      "B\n",
      "C\n",
      "D\n",
      "E\n",
      "Int_1\n",
      "Int_2\n",
      "Int_3\n"
     ]
    }
   ],
   "source": [
    "for node in tree.get_terminals() + tree.get_nonterminals():\n",
    "    if node == tree.root:\n",
    "        continue\n",
    "    print(node)\n",
    "    node.branch_length = node.rate"
   ]
  },
  {
   "cell_type": "code",
   "execution_count": 40,
   "metadata": {
    "collapsed": false
   },
   "outputs": [
    {
     "data": {
      "image/png": "[encoded data removed]",
      "text/plain": [
       "<matplotlib.figure.Figure at 0x1189baba8>"
      ]
     },
     "metadata": {},
     "output_type": "display_data"
    }
   ],
   "source": [
    "Phylo.draw(tree)"
   ]
  },
  {
   "cell_type": "code",
   "execution_count": null,
   "metadata": {
    "collapsed": true
   },
   "outputs": [],
   "source": []
  },
  {
   "cell_type": "code",
   "execution_count": 47,
   "metadata": {
    "collapsed": false
   },
   "outputs": [
    {
     "data": {
      "text/plain": [
       "(array([2., 1., 1., 0., 0., 1., 0., 0., 0., 1.]),\n",
       " array([0.20077417, 0.44311684, 0.68545951, 0.92780218, 1.17014484,\n",
       "        1.41248751, 1.65483018, 1.89717285, 2.13951551, 2.38185818,\n",
       "        2.62420085]),\n",
       " <a list of 10 Patch objects>)"
      ]
     },
     "execution_count": 47,
     "metadata": {},
     "output_type": "execute_result"
    },
    {
     "data": {
      "image/png": "[encoded data removed]",
      "text/plain": [
       "<matplotlib.figure.Figure at 0x1183eacf8>"
      ]
     },
     "metadata": {},
     "output_type": "display_data"
    }
   ],
   "source": [
    "fig, ax = plt.subplots()\n",
    "ax.hist([node.rate for node in tree.get_terminals()+tree.get_nonterminals() if node != tree.root])"
   ]
  },
  {
   "cell_type": "code",
   "execution_count": null,
   "metadata": {
    "collapsed": true
   },
   "outputs": [],
   "source": []
  },
  {
   "cell_type": "code",
   "execution_count": null,
   "metadata": {
    "collapsed": true
   },
   "outputs": [],
   "source": []
  },
  {
   "cell_type": "code",
   "execution_count": null,
   "metadata": {
    "collapsed": true
   },
   "outputs": [],
   "source": []
  },
  {
   "cell_type": "code",
   "execution_count": null,
   "metadata": {
    "collapsed": true
   },
   "outputs": [],
   "source": []
  },
  {
   "cell_type": "code",
   "execution_count": null,
   "metadata": {
    "collapsed": true
   },
   "outputs": [],
   "source": []
  },
  {
   "cell_type": "code",
   "execution_count": null,
   "metadata": {
    "collapsed": true
   },
   "outputs": [],
   "source": []
  },
  {
   "cell_type": "code",
   "execution_count": null,
   "metadata": {
    "collapsed": true
   },
   "outputs": [],
   "source": []
  },
  {
   "cell_type": "code",
   "execution_count": null,
   "metadata": {
    "collapsed": true
   },
   "outputs": [],
   "source": []
  },
  {
   "cell_type": "code",
   "execution_count": null,
   "metadata": {
    "collapsed": true
   },
   "outputs": [],
   "source": []
  },
  {
   "cell_type": "code",
   "execution_count": null,
   "metadata": {
    "collapsed": true
   },
   "outputs": [],
   "source": []
  },
  {
   "cell_type": "code",
   "execution_count": null,
   "metadata": {
    "collapsed": true
   },
   "outputs": [],
   "source": []
  },
  {
   "cell_type": "code",
   "execution_count": null,
   "metadata": {
    "collapsed": false
   },
   "outputs": [],
   "source": [
    "rate_tree = Phylo.read(StringIO(tree.format('newick')), format='newick', rooted=True)"
   ]
  },
  {
   "cell_type": "code",
   "execution_count": null,
   "metadata": {
    "collapsed": false
   },
   "outputs": [],
   "source": [
    "Phylo.draw(rate_tree)"
   ]
  },
  {
   "cell_type": "code",
   "execution_count": null,
   "metadata": {
    "collapsed": false
   },
   "outputs": [],
   "source": [
    "depth_dict = rate_tree.depths(unit_branch_lengths=True)\n",
    "for key in rate_tree.get_terminals():\n",
    "    del depth_dict[key]\n",
    "    \n",
    "inv_depth_dict = {}\n",
    "for key,val in depth_dict.items():\n",
    "    try:\n",
    "        inv_depth_dict[val].append(key)\n",
    "    except KeyError:\n",
    "        inv_depth_dict[val] = [key]"
   ]
  },
  {
   "cell_type": "code",
   "execution_count": null,
   "metadata": {
    "collapsed": false
   },
   "outputs": [],
   "source": [
    "depth_dict"
   ]
  },
  {
   "cell_type": "code",
   "execution_count": null,
   "metadata": {
    "collapsed": false
   },
   "outputs": [],
   "source": [
    "inv_depth_dict"
   ]
  },
  {
   "cell_type": "code",
   "execution_count": null,
   "metadata": {
    "collapsed": false
   },
   "outputs": [],
   "source": [
    "# for depth in range(max(list(inv_depth_dict.keys())), min(list(inv_depth_dict.keys()))-2, -1):\n",
    "for depth in range(max(list(inv_depth_dict.keys())), -1, -1):\n",
    "    print(depth)\n",
    "    for clade in inv_depth_dict[depth]:\n",
    "        print(clade)\n",
    "        temp = clade.depths()\n",
    "        lens = [temp[term]-clade.branch_length for term in clade.get_terminals()]\n",
    "        print(lens)\n",
    "        for terminal in clade.get_terminals():\n",
    "            terminal.branch_length = terminalnp.mean(lens)\n",
    "            \n",
    "#             print(terminal)\n",
    "            \n"
   ]
  },
  {
   "cell_type": "code",
   "execution_count": null,
   "metadata": {
    "collapsed": true
   },
   "outputs": [],
   "source": []
  },
  {
   "cell_type": "code",
   "execution_count": null,
   "metadata": {
    "collapsed": true
   },
   "outputs": [],
   "source": []
  }
 ],
 "metadata": {
  "kernelspec": {
   "display_name": "Python 3",
   "language": "python",
   "name": "python3"
  },
  "language_info": {
   "codemirror_mode": {
    "name": "ipython",
    "version": 3
   },
   "file_extension": ".py",
   "mimetype": "text/x-python",
   "name": "python",
   "nbconvert_exporter": "python",
   "pygments_lexer": "ipython3",
   "version": "3.4.5"
  },
  "toc": {
   "colors": {
    "hover_highlight": "#DAA520",
    "navigate_num": "#000000",
    "navigate_text": "#333333",
    "running_highlight": "#FF0000",
    "selected_highlight": "#FFD700",
    "sidebar_border": "#EEEEEE",
    "wrapper_background": "#FFFFFF"
   },
   "moveMenuLeft": true,
   "nav_menu": {
    "height": "48px",
    "width": "252px"
   },
   "navigate_menu": true,
   "number_sections": true,
   "sideBar": true,
   "threshold": 4,
   "toc_cell": false,
   "toc_section_display": "block",
   "toc_window_display": false,
   "widenNotebook": false
  }
 },
 "nbformat": 4,
 "nbformat_minor": 2
}
